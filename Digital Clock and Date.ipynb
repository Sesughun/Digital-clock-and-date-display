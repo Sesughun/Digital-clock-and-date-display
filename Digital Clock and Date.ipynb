{
 "cells": [
  {
   "cell_type": "code",
   "execution_count": 1,
   "id": "ac388065",
   "metadata": {},
   "outputs": [],
   "source": [
    "#code to make a simple digital clock to display the time and tell the date\n",
    "\n",
    "#import tkinter components\n",
    "from tkinter import *\n",
    "from tkinter import Label\n",
    "\n",
    "#import calendar\n",
    "import calendar\n",
    "import datetime as dt\n",
    "\n",
    "#import time\n",
    "import time\n",
    "\n",
    "#create a new tkinter window\n",
    "clock=Tk()\n",
    "\n",
    "#title the tkinter window\n",
    "clock.title(\"Clock\")\n",
    "\n",
    "#you wouldn't be able to access it because you don't have the file downloaded at that location\n",
    "#clock.iconbitmap(\"http://localhost:8888/view/Desktop/clock_icon.ico\")\n",
    "\n",
    "clock.configure(bg=\"pink\")"
   ]
  },
  {
   "cell_type": "code",
   "execution_count": 2,
   "id": "f42c5600",
   "metadata": {},
   "outputs": [],
   "source": [
    "#time display function\n",
    "\n",
    "def time_display():\n",
    "    #getting the time and putting it in its format\n",
    "    display=time.strftime(\"%I:%M:%S %p\")\n",
    "    \n",
    "    #binding the relationship between time label below and the display\n",
    "    timess.config(text=display)\n",
    "    \n",
    "    #after 200 milli-seconds, it'll show the actual time\n",
    "    #don't alwo forget your are referencing the actual function below\n",
    "    timess.after(200,time_display)"
   ]
  },
  {
   "cell_type": "code",
   "execution_count": 3,
   "id": "f80aff93",
   "metadata": {},
   "outputs": [],
   "source": [
    "# date display function\n",
    "\n",
    "def date_display():\n",
    "    #fetch the current date from the computer\n",
    "    times=dt.datetime.now()\n",
    "    \n",
    "    #put it in the format you require\n",
    "    date_form=f\"{times:%a, %b %d %Y}\"\n",
    "    \n",
    "    #bind the relationship between date label below and date form\n",
    "    date.config(text=date_form)"
   ]
  },
  {
   "cell_type": "code",
   "execution_count": null,
   "id": "feaf000d",
   "metadata": {},
   "outputs": [],
   "source": [
    "#define Labels timess and date\n",
    "timess=Label(clock, font=(\"ariel\",20),fg=\"blue\" )\n",
    "date=Label(clock, font=(\"ariel\",20),fg=\"blue\" )\n",
    "\n",
    "#pack 'em up!\n",
    "timess.pack()\n",
    "date.pack()\n",
    "\n",
    "#always remember to call your functions!\n",
    "time_display()\n",
    "date_display()\n",
    "clock.mainloop()"
   ]
  }
 ],
 "metadata": {
  "kernelspec": {
   "display_name": "Python 3 (ipykernel)",
   "language": "python",
   "name": "python3"
  },
  "language_info": {
   "codemirror_mode": {
    "name": "ipython",
    "version": 3
   },
   "file_extension": ".py",
   "mimetype": "text/x-python",
   "name": "python",
   "nbconvert_exporter": "python",
   "pygments_lexer": "ipython3",
   "version": "3.10.8"
  }
 },
 "nbformat": 4,
 "nbformat_minor": 5
}
